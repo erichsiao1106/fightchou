{
  "nbformat": 4,
  "nbformat_minor": 0,
  "metadata": {
    "colab": {
      "name": "trans0824.ipynb",
      "provenance": [],
      "mount_file_id": "1vLzDDLqbneO6ZG9nwN-jAHVUKD7nPz7H",
      "authorship_tag": "ABX9TyOFLzoj4NG3Awia0K4oT8E4",
      "include_colab_link": true
    },
    "kernelspec": {
      "name": "python3",
      "display_name": "Python 3"
    }
  },
  "cells": [
    {
      "cell_type": "markdown",
      "metadata": {
        "id": "view-in-github",
        "colab_type": "text"
      },
      "source": [
        "<a href=\"https://colab.research.google.com/github/erichsiao1106/fightchou0824/blob/master/trans0824.ipynb\" target=\"_parent\"><img src=\"https://colab.research.google.com/assets/colab-badge.svg\" alt=\"Open In Colab\"/></a>"
      ]
    },
    {
      "cell_type": "code",
      "metadata": {
        "id": "pbhcjtwiPOu6",
        "colab_type": "code",
        "colab": {
          "base_uri": "https://localhost:8080/",
          "height": 35
        },
        "outputId": "45a2445d-143e-49f8-c9ed-307d4b1cbbd9"
      },
      "source": [
        "import glob\n",
        "glob.glob(\"/content/drive/My Drive/train.zip 的副本\")"
      ],
      "execution_count": 1,
      "outputs": [
        {
          "output_type": "execute_result",
          "data": {
            "text/plain": [
              "['/content/drive/My Drive/train.zip 的副本']"
            ]
          },
          "metadata": {
            "tags": []
          },
          "execution_count": 1
        }
      ]
    },
    {
      "cell_type": "code",
      "metadata": {
        "id": "RHEzERXUQNUz",
        "colab_type": "code",
        "colab": {}
      },
      "source": [
        "import zipfile\n",
        "f = zipfile.ZipFile(\"/content/drive/My Drive/train.zip 的副本\")\n",
        "f.extractall(\"datas\")"
      ],
      "execution_count": 2,
      "outputs": []
    },
    {
      "cell_type": "code",
      "metadata": {
        "id": "h_Zz-HYeQjUy",
        "colab_type": "code",
        "colab": {
          "base_uri": "https://localhost:8080/",
          "height": 407
        },
        "outputId": "cd582403-2f85-4b96-f0c6-28436fe3363c"
      },
      "source": [
        "import glob\n",
        "import pandas as pd\n",
        "dogs = glob.glob(\"datas/train/dog.*\")\n",
        "cats = glob.glob(\"datas/train/cat.*\")\n",
        "df = pd.DataFrame({\n",
        "    \"path\" : dogs + cats ,\n",
        "    \"ans\" : [0] * len(dogs) + [1] *len(cats)\n",
        "})\n",
        "df"
      ],
      "execution_count": 6,
      "outputs": [
        {
          "output_type": "execute_result",
          "data": {
            "text/html": [
              "<div>\n",
              "<style scoped>\n",
              "    .dataframe tbody tr th:only-of-type {\n",
              "        vertical-align: middle;\n",
              "    }\n",
              "\n",
              "    .dataframe tbody tr th {\n",
              "        vertical-align: top;\n",
              "    }\n",
              "\n",
              "    .dataframe thead th {\n",
              "        text-align: right;\n",
              "    }\n",
              "</style>\n",
              "<table border=\"1\" class=\"dataframe\">\n",
              "  <thead>\n",
              "    <tr style=\"text-align: right;\">\n",
              "      <th></th>\n",
              "      <th>path</th>\n",
              "      <th>ans</th>\n",
              "    </tr>\n",
              "  </thead>\n",
              "  <tbody>\n",
              "    <tr>\n",
              "      <th>0</th>\n",
              "      <td>datas/train/dog.11834.jpg</td>\n",
              "      <td>0</td>\n",
              "    </tr>\n",
              "    <tr>\n",
              "      <th>1</th>\n",
              "      <td>datas/train/dog.2311.jpg</td>\n",
              "      <td>0</td>\n",
              "    </tr>\n",
              "    <tr>\n",
              "      <th>2</th>\n",
              "      <td>datas/train/dog.4547.jpg</td>\n",
              "      <td>0</td>\n",
              "    </tr>\n",
              "    <tr>\n",
              "      <th>3</th>\n",
              "      <td>datas/train/dog.4702.jpg</td>\n",
              "      <td>0</td>\n",
              "    </tr>\n",
              "    <tr>\n",
              "      <th>4</th>\n",
              "      <td>datas/train/dog.5517.jpg</td>\n",
              "      <td>0</td>\n",
              "    </tr>\n",
              "    <tr>\n",
              "      <th>...</th>\n",
              "      <td>...</td>\n",
              "      <td>...</td>\n",
              "    </tr>\n",
              "    <tr>\n",
              "      <th>24995</th>\n",
              "      <td>datas/train/cat.325.jpg</td>\n",
              "      <td>1</td>\n",
              "    </tr>\n",
              "    <tr>\n",
              "      <th>24996</th>\n",
              "      <td>datas/train/cat.8744.jpg</td>\n",
              "      <td>1</td>\n",
              "    </tr>\n",
              "    <tr>\n",
              "      <th>24997</th>\n",
              "      <td>datas/train/cat.8227.jpg</td>\n",
              "      <td>1</td>\n",
              "    </tr>\n",
              "    <tr>\n",
              "      <th>24998</th>\n",
              "      <td>datas/train/cat.3499.jpg</td>\n",
              "      <td>1</td>\n",
              "    </tr>\n",
              "    <tr>\n",
              "      <th>24999</th>\n",
              "      <td>datas/train/cat.8160.jpg</td>\n",
              "      <td>1</td>\n",
              "    </tr>\n",
              "  </tbody>\n",
              "</table>\n",
              "<p>25000 rows × 2 columns</p>\n",
              "</div>"
            ],
            "text/plain": [
              "                            path  ans\n",
              "0      datas/train/dog.11834.jpg    0\n",
              "1       datas/train/dog.2311.jpg    0\n",
              "2       datas/train/dog.4547.jpg    0\n",
              "3       datas/train/dog.4702.jpg    0\n",
              "4       datas/train/dog.5517.jpg    0\n",
              "...                          ...  ...\n",
              "24995    datas/train/cat.325.jpg    1\n",
              "24996   datas/train/cat.8744.jpg    1\n",
              "24997   datas/train/cat.8227.jpg    1\n",
              "24998   datas/train/cat.3499.jpg    1\n",
              "24999   datas/train/cat.8160.jpg    1\n",
              "\n",
              "[25000 rows x 2 columns]"
            ]
          },
          "metadata": {
            "tags": []
          },
          "execution_count": 6
        }
      ]
    },
    {
      "cell_type": "code",
      "metadata": {
        "id": "8ngFpLTXQpBX",
        "colab_type": "code",
        "colab": {
          "base_uri": "https://localhost:8080/",
          "height": 145
        },
        "outputId": "1afdb81a-fc9f-4669-b29b-29ca2f9b9491"
      },
      "source": [
        "!ls -al"
      ],
      "execution_count": 4,
      "outputs": [
        {
          "output_type": "stream",
          "text": [
            "total 24\n",
            "drwxr-xr-x 1 root root 4096 Aug 24 06:57 .\n",
            "drwxr-xr-x 1 root root 4096 Aug 24 06:49 ..\n",
            "drwxr-xr-x 1 root root 4096 Aug 10 21:25 .config\n",
            "drwxr-xr-x 3 root root 4096 Aug 24 06:57 datas\n",
            "drwx------ 4 root root 4096 Aug 24 06:52 drive\n",
            "drwxr-xr-x 1 root root 4096 Jul 30 16:30 sample_data\n"
          ],
          "name": "stdout"
        }
      ]
    }
  ]
}