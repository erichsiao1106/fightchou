{
  "nbformat": 4,
  "nbformat_minor": 0,
  "metadata": {
    "colab": {
      "name": "cnn0824.ipynb",
      "provenance": [],
      "authorship_tag": "ABX9TyMa/RxuTOqdcxEjqoOrCg2P",
      "include_colab_link": true
    },
    "kernelspec": {
      "name": "python3",
      "display_name": "Python 3"
    },
    "accelerator": "GPU"
  },
  "cells": [
    {
      "cell_type": "markdown",
      "metadata": {
        "id": "view-in-github",
        "colab_type": "text"
      },
      "source": [
        "<a href=\"https://colab.research.google.com/github/erichsiao1106/fightchou/blob/master/cnn0824.ipynb\" target=\"_parent\"><img src=\"https://colab.research.google.com/assets/colab-badge.svg\" alt=\"Open In Colab\"/></a>"
      ]
    },
    {
      "cell_type": "code",
      "metadata": {
        "id": "si-Kpu7MGGLJ",
        "colab_type": "code",
        "colab": {
          "base_uri": "https://localhost:8080/",
          "height": 54
        },
        "outputId": "cace8f60-36e3-4cab-faa4-e3eb2fc72c18"
      },
      "source": [
        "from tensorflow.keras.datasets.cifar10 import load_data\n",
        "(x_train, y_train), (x_test, y_test) = load_data()"
      ],
      "execution_count": 1,
      "outputs": [
        {
          "output_type": "stream",
          "text": [
            "Downloading data from https://www.cs.toronto.edu/~kriz/cifar-10-python.tar.gz\n",
            "170500096/170498071 [==============================] - 18s 0us/step\n"
          ],
          "name": "stdout"
        }
      ]
    },
    {
      "cell_type": "code",
      "metadata": {
        "id": "mH7luWSiHep7",
        "colab_type": "code",
        "colab": {
          "base_uri": "https://localhost:8080/",
          "height": 54
        },
        "outputId": "798613a0-2d2f-4d38-e161-904a244697ca"
      },
      "source": [
        "print(x_train.shape)\n",
        "print(x_test.shape)"
      ],
      "execution_count": 2,
      "outputs": [
        {
          "output_type": "stream",
          "text": [
            "(50000, 32, 32, 3)\n",
            "(10000, 32, 32, 3)\n"
          ],
          "name": "stdout"
        }
      ]
    },
    {
      "cell_type": "code",
      "metadata": {
        "id": "JttYNGAsIh2t",
        "colab_type": "code",
        "colab": {}
      },
      "source": [
        "label = {0:\"飛機\", 1:\"車\", 2:\"鳥\", 3:\"貓\", 4:\"鹿\",\n",
        "5:\"狗\", 6:\"青蛙\", 7:\"馬\", 8:\"船\", 9:\"卡車\"}\n",
        "trans = [\"飛機\", \"車\", \"鳥\", \"貓\", \"鹿\",\n",
        "\"狗\", \"青蛙\", \"馬\", \"船\", \"卡車\"]"
      ],
      "execution_count": 10,
      "outputs": []
    },
    {
      "cell_type": "code",
      "metadata": {
        "id": "nP3UAiQBHYM-",
        "colab_type": "code",
        "colab": {
          "base_uri": "https://localhost:8080/",
          "height": 303
        },
        "outputId": "781fd487-3b23-4c53-e9be-9bfb74dbdca1"
      },
      "source": [
        "import matplotlib.pyplot as plt\n",
        "import random\n",
        "%matplotlib inline\n",
        "i = random.randint(0,49999)\n",
        "# x_train[i]\n",
        "print(trans[y_train[i][0]])\n",
        "plt.imshow(x_train[i])"
      ],
      "execution_count": 36,
      "outputs": [
        {
          "output_type": "stream",
          "text": [
            "青蛙\n"
          ],
          "name": "stdout"
        },
        {
          "output_type": "execute_result",
          "data": {
            "text/plain": [
              "<matplotlib.image.AxesImage at 0x7f955534ae48>"
            ]
          },
          "metadata": {
            "tags": []
          },
          "execution_count": 36
        },
        {
          "output_type": "display_data",
          "data": {
            "image/png": "[encoded data removed]",
            "text/plain": [
              "<Figure size 432x288 with 1 Axes>"
            ]
          },
          "metadata": {
            "tags": [],
            "needs_background": "light"
          }
        }
      ]
    },
    {
      "cell_type": "code",
      "metadata": {
        "id": "eAOYrLFiKhoA",
        "colab_type": "code",
        "colab": {}
      },
      "source": [
        "# keras.layers.Conv2D(filters, kernel_size, strides=(1, 1), padding='valid', data_format=None,  activation=None, )"
      ],
      "execution_count": null,
      "outputs": []
    },
    {
      "cell_type": "code",
      "metadata": {
        "id": "SNY_Ce98JttP",
        "colab_type": "code",
        "colab": {
          "base_uri": "https://localhost:8080/",
          "height": 526
        },
        "outputId": "d6736146-1caf-4c0c-8b6f-9e86999c348e"
      },
      "source": [
        "from tensorflow.keras.layers import Conv2D , MaxPool2D\n",
        "from tensorflow.keras.layers import Dense , Flatten ,Dropout\n",
        "from tensorflow.keras.models import Sequential\n",
        "layers=     [       \n",
        "            Conv2D( 64 , 3 , padding=\"same\" , activation=\"relu\" , input_shape = (32 ,32 , 3)),\n",
        "            MaxPool2D( ),\n",
        "            Conv2D( 128 , 3 , padding=\"same\" , activation=\"relu\" ),\n",
        "            MaxPool2D( ),\n",
        "            Conv2D( 256 , 3 , padding=\"same\" , activation=\"relu\" ),\n",
        "            MaxPool2D( ),\n",
        "            Flatten(),\n",
        "            Dense( 256 , activation=\"relu\"), \n",
        "            Dropout(0.25),\n",
        "            Dense( 10 , activation=\"softmax\")\n",
        "\n",
        "]\n",
        "model = Sequential(layers)\n",
        "model.summary()\n"
      ],
      "execution_count": 49,
      "outputs": [
        {
          "output_type": "stream",
          "text": [
            "Model: \"sequential_9\"\n",
            "_________________________________________________________________\n",
            "Layer (type)                 Output Shape              Param #   \n",
            "=================================================================\n",
            "conv2d_27 (Conv2D)           (None, 32, 32, 64)        1792      \n",
            "_________________________________________________________________\n",
            "max_pooling2d_27 (MaxPooling (None, 16, 16, 64)        0         \n",
            "_________________________________________________________________\n",
            "conv2d_28 (Conv2D)           (None, 16, 16, 128)       73856     \n",
            "_________________________________________________________________\n",
            "max_pooling2d_28 (MaxPooling (None, 8, 8, 128)         0         \n",
            "_________________________________________________________________\n",
            "conv2d_29 (Conv2D)           (None, 8, 8, 256)         295168    \n",
            "_________________________________________________________________\n",
            "max_pooling2d_29 (MaxPooling (None, 4, 4, 256)         0         \n",
            "_________________________________________________________________\n",
            "flatten_9 (Flatten)          (None, 4096)              0         \n",
            "_________________________________________________________________\n",
            "dense_16 (Dense)             (None, 256)               1048832   \n",
            "_________________________________________________________________\n",
            "dropout (Dropout)            (None, 256)               0         \n",
            "_________________________________________________________________\n",
            "dense_17 (Dense)             (None, 10)                2570      \n",
            "=================================================================\n",
            "Total params: 1,422,218\n",
            "Trainable params: 1,422,218\n",
            "Non-trainable params: 0\n",
            "_________________________________________________________________\n"
          ],
          "name": "stdout"
        }
      ]
    },
    {
      "cell_type": "code",
      "metadata": {
        "id": "Ph4ioflzQUHB",
        "colab_type": "code",
        "colab": {}
      },
      "source": [
        "from tensorflow.keras.losses import  SparseCategoricalCrossentropy\n",
        "model.compile(loss=SparseCategoricalCrossentropy(),\n",
        "              metrics=[\"accuracy\"])"
      ],
      "execution_count": 51,
      "outputs": []
    },
    {
      "cell_type": "code",
      "metadata": {
        "id": "tDHvpj4ZYGTI",
        "colab_type": "code",
        "colab": {}
      },
      "source": [
        "x_train_norm = x_train/255\n",
        "x_test_norm = x_test/255"
      ],
      "execution_count": 52,
      "outputs": []
    },
    {
      "cell_type": "code",
      "metadata": {
        "id": "nzYCY9XNYPUv",
        "colab_type": "code",
        "colab": {
          "base_uri": "https://localhost:8080/",
          "height": 508
        },
        "outputId": "6ffba7af-4dfb-41a5-82f4-079607abd653"
      },
      "source": [
        "from tensorflow.keras.callbacks import  EarlyStopping , ModelCheckpoint\n",
        "callbacks = [\n",
        "             EarlyStopping ( patience = 5 , restore_best_weights=True) ,\n",
        "             ModelCheckpoint (\"cnn.h5\" ,save_best_only=True )\n",
        "]\n",
        "model.fit(x_train_norm, \n",
        "     y_train, \n",
        "     batch_size=200,\n",
        "     validation_split=0.1,\n",
        "     epochs=50,\n",
        "     verbose=2,\n",
        "     callbacks=callbacks)"
      ],
      "execution_count": 54,
      "outputs": [
        {
          "output_type": "stream",
          "text": [
            "Epoch 1/50\n",
            "WARNING:tensorflow:Callbacks method `on_train_batch_end` is slow compared to the batch time (batch time: 0.0066s vs `on_train_batch_end` time: 0.0274s). Check your callbacks.\n",
            "WARNING:tensorflow:Callbacks method `on_test_batch_end` is slow compared to the batch time (batch time: 0.0031s vs `on_test_batch_end` time: 0.0063s). Check your callbacks.\n",
            "225/225 - 7s - loss: 1.8345 - accuracy: 0.3414 - val_loss: 1.4516 - val_accuracy: 0.4824\n",
            "Epoch 2/50\n",
            "225/225 - 7s - loss: 1.3003 - accuracy: 0.5414 - val_loss: 1.1738 - val_accuracy: 0.5924\n",
            "Epoch 3/50\n",
            "225/225 - 7s - loss: 1.0430 - accuracy: 0.6348 - val_loss: 0.9318 - val_accuracy: 0.6802\n",
            "Epoch 4/50\n",
            "225/225 - 7s - loss: 0.8817 - accuracy: 0.6931 - val_loss: 0.8895 - val_accuracy: 0.6958\n",
            "Epoch 5/50\n",
            "225/225 - 7s - loss: 0.7573 - accuracy: 0.7379 - val_loss: 0.7504 - val_accuracy: 0.7538\n",
            "Epoch 6/50\n",
            "225/225 - 7s - loss: 0.6606 - accuracy: 0.7715 - val_loss: 0.7302 - val_accuracy: 0.7512\n",
            "Epoch 7/50\n",
            "225/225 - 7s - loss: 0.5599 - accuracy: 0.8061 - val_loss: 0.7195 - val_accuracy: 0.7610\n",
            "Epoch 8/50\n",
            "225/225 - 7s - loss: 0.4741 - accuracy: 0.8347 - val_loss: 0.8744 - val_accuracy: 0.7168\n",
            "Epoch 9/50\n",
            "225/225 - 7s - loss: 0.3952 - accuracy: 0.8600 - val_loss: 0.7963 - val_accuracy: 0.7444\n",
            "Epoch 10/50\n",
            "225/225 - 7s - loss: 0.3261 - accuracy: 0.8844 - val_loss: 0.8188 - val_accuracy: 0.7576\n",
            "Epoch 11/50\n",
            "225/225 - 7s - loss: 0.2647 - accuracy: 0.9059 - val_loss: 0.8591 - val_accuracy: 0.7598\n",
            "Epoch 12/50\n",
            "225/225 - 7s - loss: 0.2185 - accuracy: 0.9234 - val_loss: 0.8587 - val_accuracy: 0.7638\n"
          ],
          "name": "stdout"
        },
        {
          "output_type": "execute_result",
          "data": {
            "text/plain": [
              "<tensorflow.python.keras.callbacks.History at 0x7f94fdfaeb38>"
            ]
          },
          "metadata": {
            "tags": []
          },
          "execution_count": 54
        }
      ]
    },
    {
      "cell_type": "code",
      "metadata": {
        "id": "SlFtt5yeaYwD",
        "colab_type": "code",
        "colab": {
          "base_uri": "https://localhost:8080/",
          "height": 54
        },
        "outputId": "6a4f763d-6431-48b6-88f9-0292f694054d"
      },
      "source": [
        "model.evaluate(x_test_norm, y_test)"
      ],
      "execution_count": 55,
      "outputs": [
        {
          "output_type": "stream",
          "text": [
            "313/313 [==============================] - 2s 6ms/step - loss: 0.7693 - accuracy: 0.7408\n"
          ],
          "name": "stdout"
        },
        {
          "output_type": "execute_result",
          "data": {
            "text/plain": [
              "[0.769262433052063, 0.7408000230789185]"
            ]
          },
          "metadata": {
            "tags": []
          },
          "execution_count": 55
        }
      ]
    }
  ]
}